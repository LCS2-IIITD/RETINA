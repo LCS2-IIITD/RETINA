{
 "cells": [
  {
   "cell_type": "code",
   "execution_count": 3,
   "metadata": {},
   "outputs": [],
   "source": [
    "import pickle\n",
    "import numpy as np\n",
    "from collections import Counter\n",
    "import matplotlib.pyplot as plt\n",
    "import os\n",
    "from sklearn.metrics import f1_score"
   ]
  },
  {
   "cell_type": "code",
   "execution_count": 4,
   "metadata": {},
   "outputs": [],
   "source": [
    "data_path = os.path.join(\"..\",\"data\")"
   ]
  },
  {
   "cell_type": "markdown",
   "metadata": {},
   "source": [
    "## For Dyanmic Model Actual/Pred Ratio vs timestamp units."
   ]
  },
  {
   "cell_type": "code",
   "execution_count": 5,
   "metadata": {},
   "outputs": [],
   "source": [
    "y_actual = np.load(os.path.join(data_path, \"test_labels.npy\"))"
   ]
  },
  {
   "cell_type": "code",
   "execution_count": 6,
   "metadata": {},
   "outputs": [
    {
     "data": {
      "text/plain": [
       "(765, 500, 7, 1)"
      ]
     },
     "execution_count": 6,
     "metadata": {},
     "output_type": "execute_result"
    }
   ],
   "source": [
    "y_actual.shape"
   ]
  },
  {
   "cell_type": "code",
   "execution_count": 7,
   "metadata": {},
   "outputs": [],
   "source": [
    "y_pred = np.load(os.path.join(data_path, \"y_new.npy\"))"
   ]
  },
  {
   "cell_type": "code",
   "execution_count": 8,
   "metadata": {},
   "outputs": [
    {
     "data": {
      "text/plain": [
       "(765, 500, 7, 1)"
      ]
     },
     "execution_count": 8,
     "metadata": {},
     "output_type": "execute_result"
    }
   ],
   "source": [
    "y_pred.shape"
   ]
  },
  {
   "cell_type": "code",
   "execution_count": 11,
   "metadata": {},
   "outputs": [],
   "source": [
    "with open(os.path.join(data_path, \"test_labels_765.pkl\"),\"rb\") as f:\n",
    "    hate_label=pickle.load(f)\n",
    "assert len(hate_label)==len(y_pred)"
   ]
  },
  {
   "cell_type": "code",
   "execution_count": 12,
   "metadata": {},
   "outputs": [
    {
     "name": "stdout",
     "output_type": "stream",
     "text": [
      "Total hate labels = 18\n"
     ]
    }
   ],
   "source": [
    "print(\"Total hate labels = {}\".format(sum(hate_label)))"
   ]
  },
  {
   "cell_type": "code",
   "execution_count": 8,
   "metadata": {},
   "outputs": [],
   "source": [
    "hate_pred_dict = Counter()\n",
    "non_hate_pred_dict = Counter()\n",
    "\n",
    "hate_actual_dict = Counter()\n",
    "non_hate_actual_dict = Counter()\n",
    "\n",
    "for i in range(765):   \n",
    "    for j in range(500):\n",
    "        for k in range(7):\n",
    "            #pred rewteet count >0.5 is yes, else no\n",
    "            pred = y_pred[i][j][k][0]\n",
    "            if pred>0.5:\n",
    "                if hate_label[i]:\n",
    "                    hate_pred_dict[k] += 1\n",
    "                else:\n",
    "                    non_hate_pred_dict[k] += 1\n",
    "            #Actual retweeter count 0-no 1 yes\n",
    "            act = y_actual[i][j][k][0]\n",
    "            if act:\n",
    "                if hate_label[i]:\n",
    "                    hate_actual_dict[k] += 1\n",
    "                else:\n",
    "                    non_hate_actual_dict[k] +=1"
   ]
  },
  {
   "cell_type": "code",
   "execution_count": 9,
   "metadata": {},
   "outputs": [
    {
     "name": "stdout",
     "output_type": "stream",
     "text": [
      "HATE RETWEETERS\n",
      "0: Pred = 4, Actual = 32\n",
      "1: Pred = 1, Actual = 15\n",
      "2: Pred = 7, Actual = 42\n",
      "3: Pred = 9, Actual = 21\n",
      "4: Pred = 17, Actual = 32\n",
      "5: Pred = 150, Actual = 150\n",
      "6: Pred = 6, Actual = 5\n"
     ]
    }
   ],
   "source": [
    "print(\"HATE RETWEETERS\")\n",
    "for i in range(7):\n",
    "    print(\"{}: Pred = {}, Actual = {}\".format(i,hate_pred_dict[i],hate_actual_dict[i]))"
   ]
  },
  {
   "cell_type": "code",
   "execution_count": 10,
   "metadata": {},
   "outputs": [
    {
     "name": "stdout",
     "output_type": "stream",
     "text": [
      "NON HATE RETWEETERS\n",
      "0: Pred = 18, Actual = 977\n",
      "1: Pred = 17, Actual = 474\n",
      "2: Pred = 166, Actual = 1113\n",
      "3: Pred = 255, Actual = 904\n",
      "4: Pred = 598, Actual = 1303\n",
      "5: Pred = 4771, Actual = 4829\n",
      "6: Pred = 476, Actual = 446\n"
     ]
    }
   ],
   "source": [
    "print(\"NON HATE RETWEETERS\")\n",
    "for i in range(7):\n",
    "    print(\"{}: Pred = {}, Actual = {}\".format(i,non_hate_pred_dict[i],non_hate_actual_dict[i]))"
   ]
  },
  {
   "cell_type": "code",
   "execution_count": 11,
   "metadata": {},
   "outputs": [],
   "source": [
    "hate_div=[]\n",
    "non_hate_div=[]\n",
    "for k in range(7):\n",
    "    hate_div.append(hate_pred_dict[k]/hate_actual_dict[k])\n",
    "    non_hate_div.append(non_hate_pred_dict[k]/non_hate_actual_dict[k])"
   ]
  },
  {
   "cell_type": "code",
   "execution_count": 12,
   "metadata": {},
   "outputs": [
    {
     "data": {
      "image/png": "[encoded data removed]",
      "text/plain": [
       "<Figure size 432x288 with 1 Axes>"
      ]
     },
     "metadata": {
      "needs_background": "light"
     },
     "output_type": "display_data"
    }
   ],
   "source": [
    "w = 0.15 # Shifting width\n",
    "plt.bar(\n",
    "    np.arange(1,8),\n",
    "    hate_div,\n",
    "    width=w,\n",
    "    align=\"center\",\n",
    "    label=\"$Hate$\",\n",
    "    color=\"red\"\n",
    "    )\n",
    "plt.bar(\n",
    "    np.arange(1,8)+w,\n",
    "    non_hate_div,\n",
    "    width=w,\n",
    "    align=\"center\",\n",
    "    label=\"$Non\\ Hate$\",\n",
    "    color=\"green\"\n",
    ")\n",
    "plt.legend()\n",
    "plt.title(\"Retweet Estimation Ratio for Hate vs Non Hate diffusion for 7 Time Bins\")\n",
    "plt.ylabel(\"Ratio=predicted/actual\")\n",
    "plt.xlabel(\"Time Unit $\\Delta$\") \n",
    "plt.show()"
   ]
  },
  {
   "cell_type": "markdown",
   "metadata": {},
   "source": [
    "### For user history and tfdif size variation"
   ]
  },
  {
   "cell_type": "code",
   "execution_count": 13,
   "metadata": {},
   "outputs": [],
   "source": [
    "## For user history(150/100 retweetwers used) 0.65 is the old static data F1(on history=10), we report 0.71 after we learn that it is the highest.\n",
    "\n",
    "static_user_hist_abal=[0.65,\n",
    "0.68,\n",
    "0.7,\n",
    "0.64,\n",
    "0.66]\n",
    "\n",
    "dynamic_user_hist_abal=[0.92,\n",
    "0.9,\n",
    "0.93,\n",
    "0.89,\n",
    "0.92]\n",
    "\n",
    "hist_size=np.array([10, 20,30,50,100],dtype=int)\n",
    "\n",
    "static_tfidf_abal=[0.65,0.64,\n",
    "0.66]\n",
    "\n",
    "dynamic_tfidf_abal=[0.92,0.91,\n",
    "0.92]\n",
    "\n",
    "tfidf_size=np.array([300,600,1000],dtype=int)"
   ]
  },
  {
   "cell_type": "code",
   "execution_count": 15,
   "metadata": {},
   "outputs": [
    {
     "data": {
      "image/png": "[encoded data removed]",
      "text/plain": [
       "<Figure size 432x288 with 1 Axes>"
      ]
     },
     "metadata": {
      "needs_background": "light"
     },
     "output_type": "display_data"
    }
   ],
   "source": [
    "w = 1 # Shifting width\n",
    "plt.xticks(hist_size)\n",
    "plt.bar(\n",
    "    hist_size,\n",
    "    static_user_hist_abal,\n",
    "    width=w*3,\n",
    "    align=\"center\",\n",
    "    label=\"$Static$\",\n",
    "    color=\"blue\"\n",
    "    )\n",
    "plt.bar(\n",
    "    hist_size+w*3,\n",
    "    dynamic_user_hist_abal,\n",
    "    width=w*3,\n",
    "    align=\"center\",\n",
    "    label=\"$Dynamic$\",\n",
    "    color=\"orange\"\n",
    ")\n",
    "plt.legend(loc='best',bbox_to_anchor=(1, 1))\n",
    "plt.title(\"Comparing the affect of user history feature size on macro-F1\")\n",
    "plt.ylabel(\"macro-F1\")\n",
    "plt.xlabel(\"User History size\") \n",
    "plt.show()"
   ]
  },
  {
   "cell_type": "code",
   "execution_count": 16,
   "metadata": {},
   "outputs": [
    {
     "data": {
      "image/png": "[encoded data removed]",
      "text/plain": [
       "<Figure size 432x288 with 1 Axes>"
      ]
     },
     "metadata": {
      "needs_background": "light"
     },
     "output_type": "display_data"
    }
   ],
   "source": [
    "w = 1 # Shifting width\n",
    "plt.xticks(hist_size)\n",
    "plt.bar(\n",
    "    hist_size,\n",
    "    static_user_hist_abal,\n",
    "    width=w*3,\n",
    "    align=\"center\",\n",
    "    label=\"$Static$\",\n",
    "    color=\"blue\"\n",
    "    )\n",
    "plt.bar(\n",
    "    hist_size+w*3,\n",
    "    dynamic_user_hist_abal,\n",
    "    width=w*3,\n",
    "    align=\"center\",\n",
    "    label=\"$Dynamic$\",\n",
    "    color=\"orange\"\n",
    ")\n",
    "plt.legend(loc='best',bbox_to_anchor=(1, 1))\n",
    "plt.title(\"Comparing the affect of user history feature size on macro-F1\")\n",
    "plt.ylabel(\"macro-F1\")\n",
    "plt.xlabel(\"User History size\")\n",
    "plt.axhline(y=0.65,color='blue',linestyle='--')\n",
    "plt.axhline(y=0.92,color='orange',linestyle='--')\n",
    "plt.show()"
   ]
  },
  {
   "cell_type": "code",
   "execution_count": 17,
   "metadata": {},
   "outputs": [
    {
     "data": {
      "image/png": "[encoded data removed]",
      "text/plain": [
       "<Figure size 432x288 with 1 Axes>"
      ]
     },
     "metadata": {
      "needs_background": "light"
     },
     "output_type": "display_data"
    }
   ],
   "source": [
    "w = 5 # Shifting width\n",
    "plt.xticks(tfidf_size)\n",
    "plt.bar(\n",
    "    tfidf_size,\n",
    "    static_tfidf_abal,\n",
    "    width=w*5,\n",
    "    align=\"center\",\n",
    "    label=\"$Static$\",\n",
    "    color=\"blue\"\n",
    "    )\n",
    "plt.bar(\n",
    "    tfidf_size+w*5,\n",
    "    dynamic_tfidf_abal,\n",
    "    width=w*5,\n",
    "    align=\"center\",\n",
    "    label=\"$Dynamic$\",\n",
    "    color=\"orange\"\n",
    ")\n",
    "plt.legend(loc='best',bbox_to_anchor=(1, 1))\n",
    "plt.title(\"Comparing the affect of tf-idf feature size on macro-F1.\")\n",
    "plt.ylabel(\"macro-F1\")\n",
    "plt.xlabel(\"tf-idf feature size\") \n",
    "plt.axhline(y=0.65,color='blue',linestyle='--')\n",
    "plt.axhline(y=0.92,color='orange',linestyle='--')\n",
    "plt.show()"
   ]
  },
  {
   "cell_type": "code",
   "execution_count": 18,
   "metadata": {},
   "outputs": [
    {
     "data": {
      "image/png": "[encoded data removed]",
      "text/plain": [
       "<Figure size 432x288 with 1 Axes>"
      ]
     },
     "metadata": {
      "needs_background": "light"
     },
     "output_type": "display_data"
    }
   ],
   "source": [
    "w = 5 # Shifting width\n",
    "plt.xticks(tfidf_size)\n",
    "plt.bar(\n",
    "    tfidf_size,\n",
    "    static_tfidf_abal,\n",
    "    width=w*5,\n",
    "    align=\"center\",\n",
    "    label=\"$Static$\",\n",
    "    color=\"blue\"\n",
    "    )\n",
    "plt.bar(\n",
    "    tfidf_size+w*5,\n",
    "    dynamic_tfidf_abal,\n",
    "    width=w*5,\n",
    "    align=\"center\",\n",
    "    label=\"$Dynamic$\",\n",
    "    color=\"orange\"\n",
    ")\n",
    "plt.legend(loc='best',bbox_to_anchor=(1, 1))\n",
    "plt.title(\"Comparing the affect of tf-idf feature size on macro-F1.\")\n",
    "plt.ylabel(\"macro-F1\")\n",
    "plt.xlabel(\"tf-idf feature size\") \n",
    "# plt.axhline(y=0.68,color='blue',linestyle='--')\n",
    "# plt.axhline(y=0.92,color='orange',linestyle='--')\n",
    "plt.show()"
   ]
  },
  {
   "cell_type": "markdown",
   "metadata": {},
   "source": [
    "### For Static Cascade Ration Spread"
   ]
  },
  {
   "cell_type": "code",
   "execution_count": 44,
   "metadata": {},
   "outputs": [],
   "source": [
    "y_actual = np.load(\"y_actual_stat_best.npy\")\n",
    "y_pred = np.load(\"y_pred_stat_best.npy\")"
   ]
  },
  {
   "cell_type": "code",
   "execution_count": 47,
   "metadata": {},
   "outputs": [],
   "source": [
    "size_count=Counter()\n",
    "size_map={}\n",
    "# for each_row in y_actual:\n",
    "for i in range(765):\n",
    "    sum_=y_actual[i].sum()\n",
    "    size_count[sum_]+=1"
   ]
  },
  {
   "cell_type": "code",
   "execution_count": 50,
   "metadata": {},
   "outputs": [
    {
     "data": {
      "image/png": "[encoded data removed]",
      "text/plain": [
       "<Figure size 432x288 with 1 Axes>"
      ]
     },
     "metadata": {
      "needs_background": "light"
     },
     "output_type": "display_data"
    }
   ],
   "source": [
    "size_count=dict(size_count)\n",
    "plt.bar(list(size_count.keys()),list(size_count.values()))\n",
    "plt.show()"
   ]
  },
  {
   "cell_type": "code",
   "execution_count": 51,
   "metadata": {},
   "outputs": [],
   "source": [
    "size_bucket={} #post manual inspection\n",
    "size_bucket['1']=size_count[1]\n",
    "size_bucket['2']=size_count[2]\n",
    "size_bucket['3']=size_count[3]\n",
    "size_bucket['4']=size_count[4]\n",
    "size_bucket['5']=size_count[5]\n",
    "size_bucket['6-8']=sum([size_count.get(x,0) for x in range(6,9)])\n",
    "size_bucket['9-15']=sum([size_count.get(x,0) for x in range(9,16)])\n",
    "size_bucket['16-30']=sum([size_count.get(x,0) for x in range(16,31)])\n",
    "size_bucket['31-64']=sum([size_count.get(x,0) for x in range(31,65)])\n",
    "size_bucket['65-94']=sum([size_count.get(x,0) for x in range(65,94)])\n",
    "plt.bar(list(size_bucket.keys()),list(size_bucket.values()))\n",
    "plt.show()"
   ]
  },
  {
   "cell_type": "code",
   "execution_count": 55,
   "metadata": {},
   "outputs": [],
   "source": [
    "size_map={x:[] for x in size_bucket}\n",
    "for i in range(765):\n",
    "    size_ = y_actual[i].sum()\n",
    "    if size_==1:\n",
    "        size_map['1'].append(i)\n",
    "    elif size_==2:\n",
    "        size_map['2'].append(i)\n",
    "    elif size_==3:\n",
    "        size_map['3'].append(i)\n",
    "    elif size_==4:\n",
    "        size_map['4'].append(i)\n",
    "    elif size_==5:\n",
    "        size_map['5'].append(i)\n",
    "    elif 6<=size_<=8:\n",
    "        size_map['6-8'].append(i)\n",
    "    elif 9<=size_<=15:\n",
    "        size_map['9-15'].append(i)\n",
    "    elif 16<=size_<=30:\n",
    "        size_map['16-30'].append(i)\n",
    "    elif 31<=size_<=64:\n",
    "        size_map['31-64'].append(i)\n",
    "    elif 64<=size_<=94:\n",
    "        size_map['65-94'].append(i)"
   ]
  },
  {
   "cell_type": "code",
   "execution_count": 57,
   "metadata": {},
   "outputs": [
    {
     "name": "stdout",
     "output_type": "stream",
     "text": [
      "1 37000 0.5918385214433612\n",
      "2 83000 0.629610334043949\n",
      "3 47500 0.5809089552709711\n",
      "4 33500 0.5863115196983492\n",
      "5 20500 0.6002416943832886\n",
      "6-8 40000 0.593612405938418\n",
      "9-15 36000 0.6259181777335928\n",
      "16-30 36000 0.6835282057783203\n",
      "31-64 17500 0.6591899581592126\n",
      "65-94 22500 0.7265821001812967\n"
     ]
    }
   ],
   "source": [
    "size_f1={x:0 for x in size_map}\n",
    "size_f1\n",
    "for each_size in size_map:\n",
    "    temp_actual= []\n",
    "    temp_pred = []\n",
    "    for each_id in size_map[each_size]:\n",
    "        pred = y_pred[each_id]\n",
    "        act = y_actual[each_id]\n",
    "        assert len(pred)==len(act)\n",
    "        for j in range(500):\n",
    "            p = pred[j][0]\n",
    "            if p<0.5:\n",
    "                temp_pred.append(0)\n",
    "            else:\n",
    "                temp_pred.append(1)\n",
    "            temp_actual.append(act[j][0])\n",
    "    assert len(temp_actual)==len(temp_pred)\n",
    "    mf1 = f1_score(temp_actual, temp_pred, average='macro')\n",
    "    print(each_size, len(temp_actual), mf1)\n",
    "    size_f1[each_size]=mf1"
   ]
  },
  {
   "cell_type": "code",
   "execution_count": 58,
   "metadata": {},
   "outputs": [
    {
     "data": {
      "image/png": "[encoded data removed]",
      "text/plain": [
       "<Figure size 432x288 with 1 Axes>"
      ]
     },
     "metadata": {
      "needs_background": "light"
     },
     "output_type": "display_data"
    }
   ],
   "source": [
    "w = 0.6\n",
    "plt.bar(list(size_f1.keys()),list(size_f1.values()),color=\"blue\",width=w)\n",
    "plt.axhline(y=0.65,color='red',linestyle='--')\n",
    "plt.title(\"Comparing the macro-F1 of $RETINA$-$S$ against varying cascade size.\")\n",
    "plt.ylabel(\"macro-F1\")\n",
    "plt.xlabel(\"Actual Cascade Size\") \n",
    "plt.show()"
   ]
  },
  {
   "cell_type": "code",
   "execution_count": 59,
   "metadata": {},
   "outputs": [
    {
     "data": {
      "image/png": "[encoded data removed]",
      "text/plain": [
       "<Figure size 432x288 with 1 Axes>"
      ]
     },
     "metadata": {
      "needs_background": "light"
     },
     "output_type": "display_data"
    }
   ],
   "source": [
    "w = 0.6\n",
    "plt.bar(list(size_f1.keys()),list(size_f1.values()),color=\"blue\",width=w)\n",
    "# plt.axhline(y=0.65,color='red',linestyle='--')\n",
    "plt.title(\"Comparing the macro-F1 of $RETINA$-$S$ against varying cascade size.\")\n",
    "plt.ylabel(\"macro-F1\")\n",
    "plt.xlabel(\"Actual Cascade Size\") \n",
    "plt.show()"
   ]
  },
  {
   "cell_type": "markdown",
   "metadata": {},
   "source": [
    "### For News Size\n",
    "* User Hist size = 30, tfidf=300"
   ]
  },
  {
   "cell_type": "code",
   "execution_count": 19,
   "metadata": {},
   "outputs": [
    {
     "data": {
      "image/png": "[encoded data removed]",
      "text/plain": [
       "<Figure size 432x288 with 1 Axes>"
      ]
     },
     "metadata": {
      "needs_background": "light"
     },
     "output_type": "display_data"
    }
   ],
   "source": [
    "news_size=np.array([15,30,45,60],dtype=int)\n",
    "static_news=[.67,.62,.64,.70]\n",
    "dynamic_news=[0.66,0.9,0.93,0.93]\n",
    "w = 2 # Shifting width\n",
    "plt.xticks(news_size)\n",
    "plt.bar(\n",
    "    news_size,\n",
    "    static_news,\n",
    "    width=w*2,\n",
    "    align=\"center\",\n",
    "    label=\"$Static$\",\n",
    "    color=\"blue\"\n",
    "    )\n",
    "plt.bar(\n",
    "    news_size+w*2,\n",
    "    dynamic_news,\n",
    "    width=w*2,\n",
    "    align=\"center\",\n",
    "    label=\"$Dynamic$\",\n",
    "    color=\"orange\"\n",
    ")\n",
    "plt.legend(loc='best',bbox_to_anchor=(1, 1))\n",
    "plt.title(\"Comparing the affect of news signal size on macro-F1.\")\n",
    "plt.ylabel(\"macro-F1\")\n",
    "plt.xlabel(\"# news per tweet feature-size\") \n",
    "plt.axhline(y=0.7,color='blue',linestyle='--')\n",
    "plt.axhline(y=0.93,color='orange',linestyle='--')\n",
    "plt.show()"
   ]
  }
 ],
 "metadata": {
  "kernelspec": {
   "display_name": "Python 3",
   "language": "python",
   "name": "python3"
  },
  "language_info": {
   "codemirror_mode": {
    "name": "ipython",
    "version": 3
   },
   "file_extension": ".py",
   "mimetype": "text/x-python",
   "name": "python",
   "nbconvert_exporter": "python",
   "pygments_lexer": "ipython3",
   "version": "3.6.9"
  }
 },
 "nbformat": 4,
 "nbformat_minor": 4
}
