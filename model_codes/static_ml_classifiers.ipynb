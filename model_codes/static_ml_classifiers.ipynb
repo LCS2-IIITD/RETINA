{
 "cells": [
  {
   "cell_type": "code",
   "execution_count": null,
   "metadata": {},
   "outputs": [],
   "source": [
    "import h5py\n",
    "import pickle\n",
    "import numpy as np\n",
    "from sklearn.metrics import classification_report\n",
    "from sklearn.metrics import roc_auc_score\n",
    "from sklearn.linear_model import LogisticRegression\n",
    "from sklearn import tree\n",
    "from sklearn.ensemble import RandomForestClassifier\n",
    "import os\n",
    "\n",
    "import warnings\n",
    "from sklearn.exceptions import DataConversionWarning, ConvergenceWarning\n",
    "warnings.filterwarnings(action='ignore', category=DataConversionWarning)\n",
    "warnings.filterwarnings(action='ignore', category=ConvergenceWarning)"
   ]
  },
  {
   "cell_type": "code",
   "execution_count": null,
   "metadata": {},
   "outputs": [],
   "source": [
    "data_path = os.path.join(\"..\", \"data\")\n",
    "name_ext = input(\"Enter the file-name identifier extension\")\n",
    "#eg 30h_15h uses dataset w.r.t 30 user history size and 15 news size.\n",
    "if len(name_ext) == 0:\n",
    "    name_ext = \"30h_15n\""
   ]
  },
  {
   "cell_type": "code",
   "execution_count": null,
   "metadata": {},
   "outputs": [],
   "source": [
    "## Load Train data\n",
    "h5f = h5py.File(\n",
    "    os.path.join(data_path,\n",
    "                 'train_static_neural_shuffle_3057_200_' + name_ext + '.h5'),\n",
    "    'r')\n",
    "train = h5f['dataset_1'][:]\n",
    "h5f.close()\n",
    "\n",
    "with open(\n",
    "        os.path.join(\n",
    "            data_path,\n",
    "            'static_neural_labels_temp_shuffle_new_' + name_ext + '.pickle'),\n",
    "        'rb') as handle:\n",
    "    l = pickle.load(handle)\n",
    "\n",
    "## Load Test data\n",
    "h5f = h5py.File(\n",
    "    os.path.join(data_path,\n",
    "                 'test_static_neural_shuffle_765_500_' + name_ext + '.h5'),\n",
    "    'r')\n",
    "test = h5f['dataset_1'][:]\n",
    "h5f.close()\n",
    "\n",
    "with open(\n",
    "        os.path.join(\n",
    "            data_path, 'static_neural_labels_temp_test_shuffle_new_' +\n",
    "            name_ext + '.pickle'), 'rb') as handle:\n",
    "    l_test = pickle.load(handle)"
   ]
  },
  {
   "cell_type": "code",
   "execution_count": null,
   "metadata": {},
   "outputs": [],
   "source": [
    "nsamples, nx, ny = train.shape\n",
    "training1 = train.reshape((nsamples * nx, ny))\n",
    "\n",
    "nsamples, nx, ny = l.shape\n",
    "train_labels = l.reshape((nsamples * nx, ny))\n",
    "\n",
    "mean = np.nanmean(training1, axis=0)\n",
    "std = np.nanstd(training1, axis=0)\n",
    "X_train_scaled = (training1 - mean) / std\n",
    "X_train_scaled = np.nan_to_num(X_train_scaled)"
   ]
  },
  {
   "cell_type": "code",
   "execution_count": null,
   "metadata": {},
   "outputs": [],
   "source": [
    "nsamples, nx, ny = test.shape\n",
    "training1 = test.reshape((nsamples * nx, ny))\n",
    "\n",
    "nsamples, nx, ny = l_test.shape\n",
    "test_labels = l_test.reshape((nsamples * nx, ny))\n",
    "\n",
    "mean = np.nanmean(training1, axis=0)\n",
    "std = np.nanstd(training1, axis=0)\n",
    "X_test_scaled = (training1 - mean) / std\n",
    "X_test_scaled = np.nan_to_num(X_test_scaled)"
   ]
  },
  {
   "cell_type": "code",
   "execution_count": null,
   "metadata": {},
   "outputs": [],
   "source": [
    "X_train_scaled.shape"
   ]
  },
  {
   "cell_type": "code",
   "execution_count": null,
   "metadata": {},
   "outputs": [],
   "source": [
    "X_test_scaled.shape"
   ]
  },
  {
   "cell_type": "code",
   "execution_count": null,
   "metadata": {},
   "outputs": [],
   "source": [
    "train_labels.shape"
   ]
  },
  {
   "cell_type": "code",
   "execution_count": null,
   "metadata": {},
   "outputs": [],
   "source": [
    "test_labels.shape"
   ]
  },
  {
   "cell_type": "code",
   "execution_count": null,
   "metadata": {},
   "outputs": [],
   "source": [
    "# Logistic Reg\n",
    "clf = LogisticRegression(random_state=0).fit(X_train_scaled, train_labels)\n",
    "pred_labels = clf.predict(X_test_scaled)\n",
    "print(\"ACC = {}\\n\".format(clf.score(X_test_scaled, test_labels)))\n",
    "print(classification_report(test_labels, pred_labels))\n",
    "print(\"AUC = {}\\n\".format(roc_auc_score(test_labels, pred_labels)))"
   ]
  },
  {
   "cell_type": "code",
   "execution_count": null,
   "metadata": {},
   "outputs": [],
   "source": [
    "# Decision Trees\n",
    "clf = tree.DecisionTreeClassifier(random_state=0,\n",
    "                                  max_depth=10).fit(X_train_scaled,\n",
    "                                                    train_labels)\n",
    "pred_labels = clf.predict(X_test_scaled)\n",
    "print(\"ACC = {}\\n\".format(clf.score(X_test_scaled, test_labels)))\n",
    "print(classification_report(test_labels, pred_labels))\n",
    "print(\"AUC = {}\\n\".format(roc_auc_score(test_labels, pred_labels)))"
   ]
  },
  {
   "cell_type": "code",
   "execution_count": null,
   "metadata": {},
   "outputs": [],
   "source": [
    "# RandomForest\n",
    "clf = RandomForestClassifier(n_estimators=50).fit(X_train_scaled, train_labels)\n",
    "pred_labels = clf.predict(X_test_scaled)\n",
    "print(\"ACC = {}\\n\".format(clf.score(X_test_scaled, test_labels)))\n",
    "print(classification_report(test_labels, pred_labels))\n",
    "print(\"AUC = {}\\n\".format(roc_auc_score(test_labels, pred_labels)))"
   ]
  }
 ],
 "metadata": {
  "kernelspec": {
   "display_name": "Python 3",
   "language": "python",
   "name": "python3"
  },
  "language_info": {
   "codemirror_mode": {
    "name": "ipython",
    "version": 3
   },
   "file_extension": ".py",
   "mimetype": "text/x-python",
   "name": "python",
   "nbconvert_exporter": "python",
   "pygments_lexer": "ipython3",
   "version": "3.6.9"
  }
 },
 "nbformat": 4,
 "nbformat_minor": 2
}
