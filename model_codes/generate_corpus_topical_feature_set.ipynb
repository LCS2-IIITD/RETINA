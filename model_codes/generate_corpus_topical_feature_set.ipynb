{
 "cells": [
  {
   "cell_type": "code",
   "execution_count": null,
   "metadata": {},
   "outputs": [],
   "source": [
    "import numpy as np\n",
    "import json\n",
    "import pickle\n",
    "import os\n",
    "from nltk.corpus import stopwords\n",
    "import time\n",
    "from sklearn.feature_extraction.text import TfidfVectorizer\n",
    "import pandas\n",
    "import pandas as pd"
   ]
  },
  {
   "cell_type": "markdown",
   "metadata": {},
   "source": [
    "# tf-idf"
   ]
  },
  {
   "cell_type": "code",
   "execution_count": null,
   "metadata": {},
   "outputs": [],
   "source": [
    "stops = set(stopwords.words(\"english\"))\n",
    "tfidf1 = TfidfVectorizer(\n",
    "    ngram_range=(1, 2),\n",
    "    stop_words=stops,\n",
    "    use_idf=True,\n",
    "    smooth_idf=False,\n",
    "    norm=None,\n",
    "    decode_error='replace',\n",
    "    max_features=300,\n",
    "    min_df=5,\n",
    ")\n",
    "\n",
    "data_path = os.path.join(\"..\", \"data\")\n",
    "name_ext = input(\"Enter the file-name identifier extension\")\n",
    "if len(name_ext) == 0:\n",
    "    name_ext = \"26_08\""
   ]
  },
  {
   "cell_type": "code",
   "execution_count": null,
   "metadata": {},
   "outputs": [],
   "source": [
    "with open(\"corpus_foll_for_tfidf_\" + name_ext + \".pickle\", \"rb\") as f:\n",
    "    tf_idf_foll = pickle.load(f)\n",
    "with open(\"corpus_foll_for_lex_\" + name_ext + \".pickle\", \"rb\") as f:\n",
    "    hate_lex_foll = pickle.load(f)"
   ]
  },
  {
   "cell_type": "code",
   "execution_count": null,
   "metadata": {},
   "outputs": [],
   "source": [
    "corpus_ngrams = []\n",
    "for key, value in tf_idf_foll.items():\n",
    "    for d_ in list(value.values()):\n",
    "        corpus_ngrams.extend(d_)"
   ]
  },
  {
   "cell_type": "code",
   "execution_count": null,
   "metadata": {},
   "outputs": [],
   "source": [
    "matrix_corpus = tfidf1.fit_transform(corpus_ngrams).toarray()"
   ]
  },
  {
   "cell_type": "code",
   "execution_count": null,
   "metadata": {},
   "outputs": [],
   "source": [
    "tf_idf_foll_val = dict()\n",
    "i = 0\n",
    "for key, value in tf_idf_foll.items():\n",
    "    inner = dict()\n",
    "    for k, v in value.items():\n",
    "        cor = []\n",
    "        if (len(v) > 0):\n",
    "            for t in range(len(v)):\n",
    "                if len(cor) > 0:\n",
    "                    cor = cor + matrix_corpus[i]\n",
    "                else:\n",
    "                    cor = matrix_corpus[i]\n",
    "                i += 1\n",
    "            inner[k] = cor\n",
    "\n",
    "    if inner:\n",
    "        tf_idf_foll_val[key] = inner"
   ]
  },
  {
   "cell_type": "code",
   "execution_count": null,
   "metadata": {},
   "outputs": [],
   "source": [
    "with open(\"corpus_tf_idf_foll_val_\" + name_ext + \".pickle\", \"wb\") as f:\n",
    "    pickle.dump(tf_idf_foll_val, f)"
   ]
  }
 ],
 "metadata": {
  "kernelspec": {
   "display_name": "Python 3",
   "language": "python",
   "name": "python3"
  },
  "language_info": {
   "codemirror_mode": {
    "name": "ipython",
    "version": 3
   },
   "file_extension": ".py",
   "mimetype": "text/x-python",
   "name": "python",
   "nbconvert_exporter": "python",
   "pygments_lexer": "ipython3",
   "version": "3.6.9"
  }
 },
 "nbformat": 4,
 "nbformat_minor": 4
}
